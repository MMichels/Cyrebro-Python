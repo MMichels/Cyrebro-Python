{
 "cells": [
  {
   "cell_type": "code",
   "execution_count": 1,
   "metadata": {},
   "outputs": [],
   "source": [
    "from cyrebro import *\n",
    "import time\n",
    "import numpy as np\n"
   ]
  },
  {
   "cell_type": "code",
   "execution_count": 2,
   "metadata": {},
   "outputs": [],
   "source": [
    "c1 = PyCamada(8)\n",
    "c2 = PyCamada(3)\n",
    "\n",
    "c1.conectarProxCamada(c2)\n"
   ]
  },
  {
   "cell_type": "code",
   "execution_count": 3,
   "metadata": {},
   "outputs": [],
   "source": [
    "medias = []\n",
    "for i in range(1000):\n",
    "    ini = time.time()\n",
    "    c2.calculaSaida(c1)\n",
    "    end = time.time()\n",
    "    medias.append(end - ini)"
   ]
  },
  {
   "cell_type": "code",
   "execution_count": 4,
   "metadata": {},
   "outputs": [
    {
     "name": "stdout",
     "output_type": "stream",
     "text": "0.0000009995\n"
    }
   ],
   "source": [
    "media = sum(medias) / len(medias)\n",
    "print(f\"{media:.10f}\")"
   ]
  },
  {
   "cell_type": "code",
   "execution_count": 5,
   "metadata": {},
   "outputs": [],
   "source": [
    "rede1 = PyDensa(18, 1, 6, 4)\n",
    "entrada = np.random.randint(0, 100, 18)"
   ]
  },
  {
   "cell_type": "code",
   "execution_count": 6,
   "metadata": {},
   "outputs": [
    {
     "data": {
      "text/plain": "[0, 10000, 10000, 10000]"
     },
     "execution_count": 6,
     "metadata": {},
     "output_type": "execute_result"
    }
   ],
   "source": [
    "rede1.aplicarEntrada(entrada)\n",
    "rede1.calculaSaida()\n",
    "rede1.obterSaida()"
   ]
  },
  {
   "cell_type": "code",
   "execution_count": 11,
   "metadata": {},
   "outputs": [
    {
     "name": "stdout",
     "output_type": "stream",
     "text": "[10000, 0, 0, 0]\n[10000, 0, 0, 0]\n[10000, 0, 10000, 10000]\n[10000, 0, 10000, 10000]\n[10000, 0, 0, 0]\n[10000, 0, 0, 0]\n[0, 237, 0, 0]\n[0, 10000, 0, 0]\n[0, 10000, 0, 0]\n[0, 10000, 0, 0]\n"
    }
   ],
   "source": [
    "for i in range(10):\n",
    "    rede1.sofrerMutacao()\n",
    "    rede1.aplicarEntrada(entrada)\n",
    "    rede1.calculaSaida()\n",
    "    saida = rede1.obterSaida()\n",
    "    print(saida)"
   ]
  },
  {
   "cell_type": "code",
   "metadata": {},
   "outputs": [],
   "source": [
    "for i in range(10):\n",
    "    dna = rede1.copiarDNA()\n",
    "    dna = rede1.alterarDNA(dna)\n",
    "    rede1.colarDNA(dna)\n",
    "    rede1.calculaSaida()\n",
    "    print(rede1.obterSaida())"
   ]
  },
  {
   "cell_type": "code",
   "execution_count": 9,
   "metadata": {},
   "outputs": [],
   "source": [
    "rede2 = PyDensa(18, 1, 6, 4)\n",
    "rede2.copiarRede(rede1)"
   ]
  },
  {
   "cell_type": "code",
   "execution_count": 12,
   "metadata": {},
   "outputs": [
    {
     "data": {
      "text/plain": "[10000, 241, 10000, 10000]"
     },
     "execution_count": 12,
     "metadata": {},
     "output_type": "execute_result"
    }
   ],
   "source": [
    "rede2.aplicarEntrada(entrada)\n",
    "rede2.calculaSaida()\n",
    "rede2.obterSaida()"
   ]
  },
  {
   "cell_type": "code",
   "execution_count": null,
   "metadata": {},
   "outputs": [],
   "source": []
  }
 ],
 "metadata": {
  "kernelspec": {
   "display_name": "Python 3",
   "language": "python",
   "name": "python3"
  },
  "language_info": {
   "codemirror_mode": {
    "name": "ipython",
    "version": 3
   },
   "file_extension": ".py",
   "mimetype": "text/x-python",
   "name": "python",
   "nbconvert_exporter": "python",
   "pygments_lexer": "ipython3",
   "version": "3.7.3"
  }
 },
 "nbformat": 4,
 "nbformat_minor": 2
}