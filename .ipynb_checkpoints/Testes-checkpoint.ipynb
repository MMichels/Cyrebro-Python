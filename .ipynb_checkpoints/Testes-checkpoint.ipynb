{
 "cells": [
  {
   "cell_type": "code",
   "execution_count": 1,
   "metadata": {},
   "outputs": [],
   "source": [
    "from cyrebro import *\n",
    "import time\n",
    "import numpy as np\n"
   ]
  },
  {
   "cell_type": "code",
   "execution_count": 2,
   "metadata": {},
   "outputs": [],
   "source": [
    "c1 = PyCamada(18)\n",
    "c2 = PyCamada(6)\n",
    "\n",
    "c1.conectarProxCamada(c2)\n"
   ]
  },
  {
   "cell_type": "code",
   "execution_count": 4,
   "metadata": {},
   "outputs": [
    {
     "ename": "AttributeError",
     "evalue": "'cyrebro.PyCamada' object has no attribute 'obterSaida'",
     "output_type": "error",
     "traceback": [
      "\u001b[1;31m---------------------------------------------------------------------------\u001b[0m",
      "\u001b[1;31mAttributeError\u001b[0m                            Traceback (most recent call last)",
      "\u001b[1;32m<ipython-input-4-4ee2defa275f>\u001b[0m in \u001b[0;36m<module>\u001b[1;34m\u001b[0m\n\u001b[0;32m      5\u001b[0m     \u001b[0mc1\u001b[0m\u001b[1;33m.\u001b[0m\u001b[0maplicarEntrada\u001b[0m\u001b[1;33m(\u001b[0m\u001b[0mentradas\u001b[0m\u001b[1;33m)\u001b[0m\u001b[1;33m\u001b[0m\u001b[1;33m\u001b[0m\u001b[0m\n\u001b[0;32m      6\u001b[0m     \u001b[0mc2\u001b[0m\u001b[1;33m.\u001b[0m\u001b[0mcalculaSaida\u001b[0m\u001b[1;33m(\u001b[0m\u001b[0mc1\u001b[0m\u001b[1;33m)\u001b[0m\u001b[1;33m\u001b[0m\u001b[1;33m\u001b[0m\u001b[0m\n\u001b[1;32m----> 7\u001b[1;33m     \u001b[0mc2\u001b[0m\u001b[1;33m.\u001b[0m\u001b[0mobterSaida\u001b[0m\u001b[1;33m(\u001b[0m\u001b[1;33m)\u001b[0m\u001b[1;33m\u001b[0m\u001b[1;33m\u001b[0m\u001b[0m\n\u001b[0m\u001b[0;32m      8\u001b[0m     \u001b[0mend\u001b[0m \u001b[1;33m=\u001b[0m \u001b[0mtime\u001b[0m\u001b[1;33m.\u001b[0m\u001b[0mtime\u001b[0m\u001b[1;33m(\u001b[0m\u001b[1;33m)\u001b[0m\u001b[1;33m\u001b[0m\u001b[1;33m\u001b[0m\u001b[0m\n\u001b[0;32m      9\u001b[0m     \u001b[0mmedias\u001b[0m\u001b[1;33m.\u001b[0m\u001b[0mappend\u001b[0m\u001b[1;33m(\u001b[0m\u001b[0mend\u001b[0m \u001b[1;33m-\u001b[0m \u001b[0mini\u001b[0m\u001b[1;33m)\u001b[0m\u001b[1;33m\u001b[0m\u001b[1;33m\u001b[0m\u001b[0m\n",
      "\u001b[1;31mAttributeError\u001b[0m: 'cyrebro.PyCamada' object has no attribute 'obterSaida'"
     ]
    }
   ],
   "source": [
    "medias = []\n",
    "entradas = np.random.randint(0, 101, c1.qtdNeuronios)\n",
    "for i in range(1000):\n",
    "    ini = time.time()\n",
    "    c1.aplicarEntrada(entradas)\n",
    "    c2.calculaSaida(c1)\n",
    "    c2.sa\n",
    "    end = time.time()\n",
    "    medias.append(end - ini)"
   ]
  },
  {
   "cell_type": "code",
   "execution_count": 5,
   "metadata": {},
   "outputs": [
    {
     "data": {
      "text/plain": [
       "['__class__',\n",
       " '__delattr__',\n",
       " '__dir__',\n",
       " '__doc__',\n",
       " '__eq__',\n",
       " '__format__',\n",
       " '__ge__',\n",
       " '__getattribute__',\n",
       " '__gt__',\n",
       " '__hash__',\n",
       " '__init__',\n",
       " '__init_subclass__',\n",
       " '__le__',\n",
       " '__lt__',\n",
       " '__ne__',\n",
       " '__new__',\n",
       " '__reduce__',\n",
       " '__reduce_ex__',\n",
       " '__repr__',\n",
       " '__setattr__',\n",
       " '__setstate__',\n",
       " '__sizeof__',\n",
       " '__str__',\n",
       " '__subclasshook__',\n",
       " 'aplicarEntrada',\n",
       " 'calculaSaida',\n",
       " 'conectarProxCamada',\n",
       " 'neuronios',\n",
       " 'qtdNeuronios',\n",
       " 'saida']"
      ]
     },
     "execution_count": 5,
     "metadata": {},
     "output_type": "execute_result"
    }
   ],
   "source": [
    "dir(c2)"
   ]
  },
  {
   "cell_type": "code",
   "execution_count": 4,
   "metadata": {},
   "outputs": [
    {
     "name": "stdout",
     "output_type": "stream",
     "text": [
      "0.0000009995\n"
     ]
    }
   ],
   "source": [
    "media = sum(medias) / len(medias)\n",
    "print(f\"{media:.10f}\")"
   ]
  },
  {
   "cell_type": "code",
   "execution_count": 5,
   "metadata": {},
   "outputs": [],
   "source": [
    "rede1 = PyDensa(18, 1, 6, 4)\n",
    "entrada = np.random.randint(0, 100, 18)"
   ]
  },
  {
   "cell_type": "code",
   "execution_count": 6,
   "metadata": {},
   "outputs": [
    {
     "data": {
      "text/plain": [
       "[0, 10000, 10000, 10000]"
      ]
     },
     "execution_count": 6,
     "metadata": {},
     "output_type": "execute_result"
    }
   ],
   "source": [
    "rede1.aplicarEntrada(entrada)\n",
    "rede1.calculaSaida()\n",
    "rede1.obterSaida()"
   ]
  },
  {
   "cell_type": "code",
   "execution_count": 11,
   "metadata": {},
   "outputs": [
    {
     "name": "stdout",
     "output_type": "stream",
     "text": [
      "[10000, 0, 0, 0]\n",
      "[10000, 0, 0, 0]\n",
      "[10000, 0, 10000, 10000]\n",
      "[10000, 0, 10000, 10000]\n",
      "[10000, 0, 0, 0]\n",
      "[10000, 0, 0, 0]\n",
      "[0, 237, 0, 0]\n",
      "[0, 10000, 0, 0]\n",
      "[0, 10000, 0, 0]\n",
      "[0, 10000, 0, 0]\n"
     ]
    }
   ],
   "source": [
    "for i in range(10):\n",
    "    rede1.sofrerMutacao()\n",
    "    rede1.aplicarEntrada(entrada)\n",
    "    rede1.calculaSaida()\n",
    "    saida = rede1.obterSaida()\n",
    "    print(saida)"
   ]
  },
  {
   "cell_type": "code",
   "execution_count": null,
   "metadata": {},
   "outputs": [],
   "source": [
    "for i in range(10):\n",
    "    dna = rede1.copiarDNA()\n",
    "    dna = rede1.alterarDNA(dna)\n",
    "    rede1.colarDNA(dna)\n",
    "    rede1.calculaSaida()\n",
    "    print(rede1.obterSaida())"
   ]
  },
  {
   "cell_type": "code",
   "execution_count": 9,
   "metadata": {},
   "outputs": [],
   "source": [
    "rede2 = PyDensa(18, 1, 6, 4)\n",
    "rede2.copiarRede(rede1)"
   ]
  },
  {
   "cell_type": "code",
   "execution_count": 12,
   "metadata": {},
   "outputs": [
    {
     "data": {
      "text/plain": [
       "[10000, 241, 10000, 10000]"
      ]
     },
     "execution_count": 12,
     "metadata": {},
     "output_type": "execute_result"
    }
   ],
   "source": [
    "rede2.aplicarEntrada(entrada)\n",
    "rede2.calculaSaida()\n",
    "rede2.obterSaida()"
   ]
  },
  {
   "cell_type": "code",
   "execution_count": null,
   "metadata": {},
   "outputs": [],
   "source": []
  }
 ],
 "metadata": {
  "kernelspec": {
   "display_name": "Python 3",
   "language": "python",
   "name": "python3"
  },
  "language_info": {
   "codemirror_mode": {
    "name": "ipython",
    "version": 3
   },
   "file_extension": ".py",
   "mimetype": "text/x-python",
   "name": "python",
   "nbconvert_exporter": "python",
   "pygments_lexer": "ipython3",
   "version": "3.7.3"
  }
 },
 "nbformat": 4,
 "nbformat_minor": 2
}
